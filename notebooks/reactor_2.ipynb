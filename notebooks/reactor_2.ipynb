{
 "cells": [
  {
   "cell_type": "code",
   "execution_count": 37,
   "metadata": {},
   "outputs": [],
   "source": [
    "from bs4 import BeautifulSoup\n",
    "import pandas as pd\n",
    "import requests\n",
    "from io import StringIO\n",
    "from time import sleep\n",
    "from urllib.request import urlretrieve\n",
    "from urllib.parse import quote"
   ]
  },
  {
   "cell_type": "code",
   "execution_count": 47,
   "metadata": {},
   "outputs": [
    {
     "name": "stdout",
     "output_type": "stream",
     "text": [
      "     Country Reactor Code Reactor Name  Type       Model  \\\n",
      "0  ARGENTINA        AR -1     ATUCHA-1  PHWR    PHWR KWU   \n",
      "1  ARGENTINA        AR -3     ATUCHA-2  PHWR    PHWR KWU   \n",
      "2  ARGENTINA        AR -2      EMBALSE  PHWR     CANDU 6   \n",
      "3    ARMENIA       AM -19   ARMENIAN-2   PWR  VVER V-270   \n",
      "\n",
      "   Capacity (MW)-Thermal  Capacity (MW)-Gross  Capacity (MW)-Net  Operator  \\\n",
      "0                   1179                  362                340      NASA   \n",
      "1                   2160                  745                693      NASA   \n",
      "2                   2064                  656                608      NASA   \n",
      "3                   1375                  408                375  ANPPCJSC   \n",
      "\n",
      "  NSSS\\nsupplier Construction\\nstart Grid\\nconnection Commercial\\noperation  \\\n",
      "0        SIEMENS              1968-6           1974-3                1974-6   \n",
      "1        SIEMENS              1981-7           2014-6                2016-5   \n",
      "2           AECL              1974-4           1983-4                1984-1   \n",
      "3           FAEA              1975-7           1980-1                1980-5   \n",
      "\n",
      "       EAF %      UCF % Non- Coordinates  Latitude  Longitude  \n",
      "0  81.598502  81.788353    -         nan       NaN        NaN  \n",
      "1  56.761328  56.761328    -         nan       NaN        NaN  \n",
      "2  54.823876  54.873588    -         nan       NaN        NaN  \n",
      "3  66.873519  68.831202    -         nan       NaN        NaN  \n"
     ]
    },
    {
     "data": {
      "text/plain": [
       "Country                   object\n",
       "Reactor Code              object\n",
       "Reactor Name              object\n",
       "Type                      object\n",
       "Model                     object\n",
       "Capacity (MW)-Thermal      int64\n",
       "Capacity (MW)-Gross        int64\n",
       "Capacity (MW)-Net          int64\n",
       "Operator                  object\n",
       "NSSS\\nsupplier            object\n",
       "Construction\\nstart       object\n",
       "Grid\\nconnection          object\n",
       "Commercial\\noperation     object\n",
       "EAF %                    float64\n",
       "UCF %                    float64\n",
       "Non-                      object\n",
       "Coordinates               object\n",
       "Latitude                 float64\n",
       "Longitude                float64\n",
       "dtype: object"
      ]
     },
     "execution_count": 47,
     "metadata": {},
     "output_type": "execute_result"
    }
   ],
   "source": [
    "reactors = pd.read_csv('../data/reactors/Operational Reactors - lookup test.csv')\n",
    "reactors = reactors.reindex(columns = reactors.columns.tolist()  \n",
    "                                  + ['Coordinates','Latitude', 'Longitude'])\n",
    "reactors['Coordinates'] = reactors['Coordinates'].apply(str) \n",
    "                                     \n",
    "print(reactors.head())\n",
    "reactors.dtypes"
   ]
  },
  {
   "cell_type": "code",
   "execution_count": 48,
   "metadata": {},
   "outputs": [],
   "source": [
    "term1 = str(reactors.at[0, 'Country'])\n",
    "term2 = str(reactors.at[0, 'Reactor Name'])\n"
   ]
  },
  {
   "cell_type": "code",
   "execution_count": 49,
   "metadata": {},
   "outputs": [
    {
     "name": "stdout",
     "output_type": "stream",
     "text": [
      "https://en.wikipedia.org/wiki/Atucha_Nuclear_Power_Plant\n",
      "<span class=\"geo-dec\" title=\"Maps, aerial photos, and other data for this location\">39.80806°N 5.69694°W</span>\n"
     ]
    }
   ],
   "source": [
    "var = requests.get(r'http://www.google.com/search?q=' + term1 + term2 + 'reactor&btnI')\n",
    "newurl = str(var.url)\n",
    "newurl = newurl.split(\"url?q=\",1)[1]\n",
    "\n",
    "print(newurl)\n",
    "\n",
    "soup = BeautifulSoup(url.content, 'html.parser')\n",
    "my_table = soup.find('span',{'class':'geo-dec'})\n",
    "print(my_table)\n",
    "\n",
    "#soup = BeautifulSoup(url.content, 'html.parser')\n",
    "#my_table = soup.find('table',{'class':'sortable wikitable'})\n",
    "#print(my_table)\n",
    "\n"
   ]
  },
  {
   "cell_type": "code",
   "execution_count": 50,
   "metadata": {},
   "outputs": [
    {
     "name": "stdout",
     "output_type": "stream",
     "text": [
      "None\n",
      "39.80806°N 5.69694°W\n"
     ]
    }
   ],
   "source": [
    "print(my_table.type)\n",
    "print(my_table.string)"
   ]
  },
  {
   "cell_type": "code",
   "execution_count": 51,
   "metadata": {},
   "outputs": [
    {
     "data": {
      "text/html": [
       "<div>\n",
       "<style scoped>\n",
       "    .dataframe tbody tr th:only-of-type {\n",
       "        vertical-align: middle;\n",
       "    }\n",
       "\n",
       "    .dataframe tbody tr th {\n",
       "        vertical-align: top;\n",
       "    }\n",
       "\n",
       "    .dataframe thead th {\n",
       "        text-align: right;\n",
       "    }\n",
       "</style>\n",
       "<table border=\"1\" class=\"dataframe\">\n",
       "  <thead>\n",
       "    <tr style=\"text-align: right;\">\n",
       "      <th></th>\n",
       "      <th>Country</th>\n",
       "      <th>Reactor Code</th>\n",
       "      <th>Reactor Name</th>\n",
       "      <th>Type</th>\n",
       "      <th>Model</th>\n",
       "      <th>Capacity (MW)-Thermal</th>\n",
       "      <th>Capacity (MW)-Gross</th>\n",
       "      <th>Capacity (MW)-Net</th>\n",
       "      <th>Operator</th>\n",
       "      <th>NSSS\\nsupplier</th>\n",
       "      <th>Construction\\nstart</th>\n",
       "      <th>Grid\\nconnection</th>\n",
       "      <th>Commercial\\noperation</th>\n",
       "      <th>EAF %</th>\n",
       "      <th>UCF %</th>\n",
       "      <th>Non-</th>\n",
       "      <th>Coordinates</th>\n",
       "      <th>Latitude</th>\n",
       "      <th>Longitude</th>\n",
       "    </tr>\n",
       "  </thead>\n",
       "  <tbody>\n",
       "    <tr>\n",
       "      <th>0</th>\n",
       "      <td>ARGENTINA</td>\n",
       "      <td>AR -1</td>\n",
       "      <td>ATUCHA-1</td>\n",
       "      <td>PHWR</td>\n",
       "      <td>PHWR KWU</td>\n",
       "      <td>1179</td>\n",
       "      <td>362</td>\n",
       "      <td>340</td>\n",
       "      <td>NASA</td>\n",
       "      <td>SIEMENS</td>\n",
       "      <td>1968-6</td>\n",
       "      <td>1974-3</td>\n",
       "      <td>1974-6</td>\n",
       "      <td>81.598502</td>\n",
       "      <td>81.788353</td>\n",
       "      <td>-</td>\n",
       "      <td>39.80806°N 5.69694°W</td>\n",
       "      <td>NaN</td>\n",
       "      <td>NaN</td>\n",
       "    </tr>\n",
       "    <tr>\n",
       "      <th>1</th>\n",
       "      <td>ARGENTINA</td>\n",
       "      <td>AR -3</td>\n",
       "      <td>ATUCHA-2</td>\n",
       "      <td>PHWR</td>\n",
       "      <td>PHWR KWU</td>\n",
       "      <td>2160</td>\n",
       "      <td>745</td>\n",
       "      <td>693</td>\n",
       "      <td>NASA</td>\n",
       "      <td>SIEMENS</td>\n",
       "      <td>1981-7</td>\n",
       "      <td>2014-6</td>\n",
       "      <td>2016-5</td>\n",
       "      <td>56.761328</td>\n",
       "      <td>56.761328</td>\n",
       "      <td>-</td>\n",
       "      <td>nan</td>\n",
       "      <td>NaN</td>\n",
       "      <td>NaN</td>\n",
       "    </tr>\n",
       "    <tr>\n",
       "      <th>2</th>\n",
       "      <td>ARGENTINA</td>\n",
       "      <td>AR -2</td>\n",
       "      <td>EMBALSE</td>\n",
       "      <td>PHWR</td>\n",
       "      <td>CANDU 6</td>\n",
       "      <td>2064</td>\n",
       "      <td>656</td>\n",
       "      <td>608</td>\n",
       "      <td>NASA</td>\n",
       "      <td>AECL</td>\n",
       "      <td>1974-4</td>\n",
       "      <td>1983-4</td>\n",
       "      <td>1984-1</td>\n",
       "      <td>54.823876</td>\n",
       "      <td>54.873588</td>\n",
       "      <td>-</td>\n",
       "      <td>nan</td>\n",
       "      <td>NaN</td>\n",
       "      <td>NaN</td>\n",
       "    </tr>\n",
       "    <tr>\n",
       "      <th>3</th>\n",
       "      <td>ARMENIA</td>\n",
       "      <td>AM -19</td>\n",
       "      <td>ARMENIAN-2</td>\n",
       "      <td>PWR</td>\n",
       "      <td>VVER V-270</td>\n",
       "      <td>1375</td>\n",
       "      <td>408</td>\n",
       "      <td>375</td>\n",
       "      <td>ANPPCJSC</td>\n",
       "      <td>FAEA</td>\n",
       "      <td>1975-7</td>\n",
       "      <td>1980-1</td>\n",
       "      <td>1980-5</td>\n",
       "      <td>66.873519</td>\n",
       "      <td>68.831202</td>\n",
       "      <td>-</td>\n",
       "      <td>nan</td>\n",
       "      <td>NaN</td>\n",
       "      <td>NaN</td>\n",
       "    </tr>\n",
       "  </tbody>\n",
       "</table>\n",
       "</div>"
      ],
      "text/plain": [
       "     Country Reactor Code Reactor Name  Type       Model  \\\n",
       "0  ARGENTINA        AR -1     ATUCHA-1  PHWR    PHWR KWU   \n",
       "1  ARGENTINA        AR -3     ATUCHA-2  PHWR    PHWR KWU   \n",
       "2  ARGENTINA        AR -2      EMBALSE  PHWR     CANDU 6   \n",
       "3    ARMENIA       AM -19   ARMENIAN-2   PWR  VVER V-270   \n",
       "\n",
       "   Capacity (MW)-Thermal  Capacity (MW)-Gross  Capacity (MW)-Net  Operator  \\\n",
       "0                   1179                  362                340      NASA   \n",
       "1                   2160                  745                693      NASA   \n",
       "2                   2064                  656                608      NASA   \n",
       "3                   1375                  408                375  ANPPCJSC   \n",
       "\n",
       "  NSSS\\nsupplier Construction\\nstart Grid\\nconnection Commercial\\noperation  \\\n",
       "0        SIEMENS              1968-6           1974-3                1974-6   \n",
       "1        SIEMENS              1981-7           2014-6                2016-5   \n",
       "2           AECL              1974-4           1983-4                1984-1   \n",
       "3           FAEA              1975-7           1980-1                1980-5   \n",
       "\n",
       "       EAF %      UCF % Non-           Coordinates  Latitude  Longitude  \n",
       "0  81.598502  81.788353    -  39.80806°N 5.69694°W       NaN        NaN  \n",
       "1  56.761328  56.761328    -                   nan       NaN        NaN  \n",
       "2  54.823876  54.873588    -                   nan       NaN        NaN  \n",
       "3  66.873519  68.831202    -                   nan       NaN        NaN  "
      ]
     },
     "execution_count": 51,
     "metadata": {},
     "output_type": "execute_result"
    }
   ],
   "source": [
    "reactors.at[0, 'Coordinates'] = str(my_table.string)\n",
    "reactors.head()"
   ]
  },
  {
   "cell_type": "code",
   "execution_count": 16,
   "metadata": {},
   "outputs": [
    {
     "name": "stdout",
     "output_type": "stream",
     "text": [
      "https://en.wikipedia.org/wiki/Embalse_Nuclear_Power_Station\n"
     ]
    }
   ],
   "source": [
    "print(newurl.split(\"url?q=\",1)[1])"
   ]
  },
  {
   "cell_type": "code",
   "execution_count": 8,
   "metadata": {},
   "outputs": [
    {
     "data": {
      "text/html": [
       "<div>\n",
       "<style scoped>\n",
       "    .dataframe tbody tr th:only-of-type {\n",
       "        vertical-align: middle;\n",
       "    }\n",
       "\n",
       "    .dataframe tbody tr th {\n",
       "        vertical-align: top;\n",
       "    }\n",
       "\n",
       "    .dataframe thead th {\n",
       "        text-align: right;\n",
       "    }\n",
       "</style>\n",
       "<table border=\"1\" class=\"dataframe\">\n",
       "  <thead>\n",
       "    <tr style=\"text-align: right;\">\n",
       "      <th></th>\n",
       "      <th>Power station</th>\n",
       "      <th># units[note 1]</th>\n",
       "      <th>Net capacity[note 2](MWe)</th>\n",
       "      <th>Country</th>\n",
       "      <th>Location</th>\n",
       "      <th>Refs</th>\n",
       "    </tr>\n",
       "  </thead>\n",
       "  <tbody>\n",
       "    <tr>\n",
       "      <th>0</th>\n",
       "      <td>Almaraz</td>\n",
       "      <td>2</td>\n",
       "      <td>2017</td>\n",
       "      <td>Spain</td>\n",
       "      <td>39°48′29″N 05°41′49″W﻿ / ﻿39.80806°N 5.69694°W</td>\n",
       "      <td>NaN</td>\n",
       "    </tr>\n",
       "    <tr>\n",
       "      <th>1</th>\n",
       "      <td>Angra</td>\n",
       "      <td>2</td>\n",
       "      <td>1,884[note 3]</td>\n",
       "      <td>Brazil</td>\n",
       "      <td>23°00′30″S 44°28′26″W﻿ / ﻿23.00833°S 44.47389°W</td>\n",
       "      <td>NaN</td>\n",
       "    </tr>\n",
       "    <tr>\n",
       "      <th>2</th>\n",
       "      <td>ANO</td>\n",
       "      <td>2</td>\n",
       "      <td>1839</td>\n",
       "      <td>United States</td>\n",
       "      <td>35°18′37″N 93°13′53″W﻿ / ﻿35.31028°N 93.23139°W</td>\n",
       "      <td>NaN</td>\n",
       "    </tr>\n",
       "    <tr>\n",
       "      <th>3</th>\n",
       "      <td>Ascó</td>\n",
       "      <td>2</td>\n",
       "      <td>1992</td>\n",
       "      <td>Spain</td>\n",
       "      <td>41°12′00″N 00°34′10″E﻿ / ﻿41.20000°N 0.56944°E</td>\n",
       "      <td>NaN</td>\n",
       "    </tr>\n",
       "    <tr>\n",
       "      <th>4</th>\n",
       "      <td>Atucha</td>\n",
       "      <td>2</td>\n",
       "      <td>1027</td>\n",
       "      <td>Argentina</td>\n",
       "      <td>33°58′3″S 59°12′18″W﻿ / ﻿33.96750°S 59.20500°W</td>\n",
       "      <td>NaN</td>\n",
       "    </tr>\n",
       "  </tbody>\n",
       "</table>\n",
       "</div>"
      ],
      "text/plain": [
       "  Power station # units[note 1] Net capacity[note 2](MWe)        Country  \\\n",
       "0       Almaraz               2                      2017          Spain   \n",
       "1         Angra               2             1,884[note 3]         Brazil   \n",
       "2           ANO               2                      1839  United States   \n",
       "3          Ascó               2                      1992          Spain   \n",
       "4        Atucha               2                      1027      Argentina   \n",
       "\n",
       "                                          Location Refs  \n",
       "0   39°48′29″N 05°41′49″W﻿ / ﻿39.80806°N 5.69694°W  NaN  \n",
       "1  23°00′30″S 44°28′26″W﻿ / ﻿23.00833°S 44.47389°W  NaN  \n",
       "2  35°18′37″N 93°13′53″W﻿ / ﻿35.31028°N 93.23139°W  NaN  \n",
       "3   41°12′00″N 00°34′10″E﻿ / ﻿41.20000°N 0.56944°E  NaN  \n",
       "4   33°58′3″S 59°12′18″W﻿ / ﻿33.96750°S 59.20500°W  NaN  "
      ]
     },
     "execution_count": 8,
     "metadata": {},
     "output_type": "execute_result"
    }
   ],
   "source": [
    "df=pd.read_html(str(my_table))\n",
    "df=pd.DataFrame(df[0])\n",
    "df.head()"
   ]
  },
  {
   "cell_type": "code",
   "execution_count": 10,
   "metadata": {},
   "outputs": [],
   "source": [
    "url = requests.get('https://en.wikipedia.org/wiki/List_of_nuclear_power_stations#In_service')\n",
    "\n",
    "soup = BeautifulSoup(url.content, 'html.parser')\n",
    "my_table = soup.find('table',{'class':'sortable wikitable'})\n",
    "print(my_table)\n"
   ]
  },
  {
   "cell_type": "code",
   "execution_count": null,
   "metadata": {},
   "outputs": [],
   "source": []
  }
 ],
 "metadata": {
  "kernelspec": {
   "display_name": "Python 3",
   "language": "python",
   "name": "python3"
  },
  "language_info": {
   "codemirror_mode": {
    "name": "ipython",
    "version": 3
   },
   "file_extension": ".py",
   "mimetype": "text/x-python",
   "name": "python",
   "nbconvert_exporter": "python",
   "pygments_lexer": "ipython3",
   "version": "3.8.5"
  }
 },
 "nbformat": 4,
 "nbformat_minor": 4
}
