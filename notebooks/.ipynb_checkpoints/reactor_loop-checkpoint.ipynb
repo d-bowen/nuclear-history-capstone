{
 "cells": [
  {
   "cell_type": "code",
   "execution_count": 19,
   "metadata": {},
   "outputs": [],
   "source": [
    "from bs4 import BeautifulSoup\n",
    "import pandas as pd\n",
    "import requests\n",
    "from io import StringIO\n",
    "from time import sleep\n",
    "from urllib.request import urlretrieve\n",
    "from urllib.parse import quote"
   ]
  },
  {
   "cell_type": "markdown",
   "metadata": {},
   "source": [
    "### Coordinates for permanently shutdown reactors"
   ]
  },
  {
   "cell_type": "code",
   "execution_count": 13,
   "metadata": {},
   "outputs": [],
   "source": [
    "reactors = pd.read_csv('../data/reactors/Reactors Permanently Shut Down - Copy.csv')\n",
    "reactors = reactors.reindex(columns = reactors.columns.tolist()  \n",
    "                                  + ['Coordinates','Latitude', 'Longitude'])\n",
    "reactors['Coordinates'] = reactors['Coordinates'].apply(str) \n",
    "reactors['Latitude'] = reactors['Latitude'].apply(str) \n",
    "reactors['Longitude'] = reactors['Longitude'].apply(str) \n",
    "\n",
    "for x in range (1, 183):\n",
    "    term1 = str(reactors.at[x, 'Country'])\n",
    "    term2 = str(reactors.at[x, 'Reactor Name'])\n",
    "    var = requests.get(r'http://www.google.com/search?q=wikipedia%20' + term1 + '%20' + term2 + '%20reactor&btnI')\n",
    "    newurl = str(var.url)\n",
    "#    print(newurl)\n",
    "    newurl = newurl.split(\"url?q=\",1)[1]\n",
    "#    print(newurl)\n",
    "    response = requests.post(newurl)\n",
    "    try:\n",
    "        soup = BeautifulSoup(response.content, 'html.parser')\n",
    "        coordinate = soup.find('span',{'class':'geo-dec'})\n",
    "        lat = soup.find('span',{'class':'latitude'})\n",
    "        lon = soup.find('span',{'class':'longitude'})\n",
    "        reactors.at[x, 'Coordinates'] = str(coordinate.string)\n",
    "        reactors.at[x, 'Latitude'] = str(lat.string)\n",
    "        reactors.at[x, 'Longitude'] = str(lon.string)\n",
    "    except AttributeError:\n",
    "        continue\n",
    "    sleep(10)\n",
    "    \n",
    "reactors\n",
    "reactors.to_csv('../data/shutdown_reactor_coordinates.csv')"
   ]
  },
  {
   "cell_type": "markdown",
   "metadata": {},
   "source": [
    "### Coordinates for decommissioning reactors"
   ]
  },
  {
   "cell_type": "code",
   "execution_count": 15,
   "metadata": {},
   "outputs": [],
   "source": [
    "reactors = pd.read_csv('../data/reactors/Reactors in Decommissioning Process - Copy.csv')\n",
    "reactors = reactors.reindex(columns = reactors.columns.tolist()  \n",
    "                                  + ['Coordinates','Latitude', 'Longitude'])\n",
    "reactors['Coordinates'] = reactors['Coordinates'].apply(str) \n",
    "reactors['Latitude'] = reactors['Latitude'].apply(str) \n",
    "reactors['Longitude'] = reactors['Longitude'].apply(str) \n",
    "\n",
    "for x in range (1, 150):\n",
    "    term1 = str(reactors.at[x, 'Country'])\n",
    "    term2 = str(reactors.at[x, 'Reactor Name'])\n",
    "    var = requests.get(r'http://www.google.com/search?q=wikipedia%20' + term1 + '%20' + term2 + '%20reactor&btnI')\n",
    "    newurl = str(var.url)\n",
    "#    print(newurl)\n",
    "    newurl = newurl.split(\"url?q=\",1)[1]\n",
    "#    print(newurl)\n",
    "    response = requests.post(newurl)\n",
    "    try:\n",
    "        soup = BeautifulSoup(response.content, 'html.parser')\n",
    "        coordinate = soup.find('span',{'class':'geo-dec'})\n",
    "        lat = soup.find('span',{'class':'latitude'})\n",
    "        lon = soup.find('span',{'class':'longitude'})\n",
    "        reactors.at[x, 'Coordinates'] = str(coordinate.string)\n",
    "        reactors.at[x, 'Latitude'] = str(lat.string)\n",
    "        reactors.at[x, 'Longitude'] = str(lon.string)\n",
    "    except AttributeError:\n",
    "        continue\n",
    "    sleep(10)\n",
    "    \n",
    "reactors\n",
    "reactors.to_csv('../data/decom_reactor_coordinates.csv')\n"
   ]
  },
  {
   "cell_type": "markdown",
   "metadata": {},
   "source": [
    "### Coordinates for Operational Reactors"
   ]
  },
  {
   "cell_type": "code",
   "execution_count": 21,
   "metadata": {},
   "outputs": [],
   "source": [
    "reactors = pd.read_csv('../data/reactors/Operational Reactors - Cleaned.csv')\n",
    "reactors = reactors.reindex(columns = reactors.columns.tolist()  \n",
    "                                  + ['Coordinates','Latitude', 'Longitude'])\n",
    "reactors['Coordinates'] = reactors['Coordinates'].apply(str) \n",
    "reactors['Latitude'] = reactors['Latitude'].apply(str) \n",
    "reactors['Longitude'] = reactors['Longitude'].apply(str) \n",
    "\n",
    "for x in range (1, 439):\n",
    "    term1 = str(reactors.at[x, 'Country'])\n",
    "    term2 = str(reactors.at[x, 'Reactor Name'])\n",
    "    var = requests.get(r'http://www.google.com/search?q=wikipedia%20' + term1 + '%20' + term2 + '%20reactor&btnI')\n",
    "    newurl = str(var.url)\n",
    "#    print(newurl)\n",
    "    newurl = newurl.split(\"url?q=\",1)[1]\n",
    "#    print(newurl)\n",
    "    response = requests.post(newurl)\n",
    "    try:\n",
    "        soup = BeautifulSoup(response.content, 'html.parser')\n",
    "        coordinate = soup.find('span',{'class':'geo-dec'})\n",
    "        lat = soup.find('span',{'class':'latitude'})\n",
    "        lon = soup.find('span',{'class':'longitude'})\n",
    "        reactors.at[x, 'Coordinates'] = str(coordinate.string)\n",
    "        reactors.at[x, 'Latitude'] = str(lat.string)\n",
    "        reactors.at[x, 'Longitude'] = str(lon.string)\n",
    "    except AttributeError:\n",
    "        continue\n",
    "    sleep(10)\n",
    "    \n",
    "reactors\n",
    "reactors.to_csv('../data/operational_reactor_coordinates.csv')"
   ]
  },
  {
   "cell_type": "code",
   "execution_count": null,
   "metadata": {},
   "outputs": [],
   "source": []
  }
 ],
 "metadata": {
  "kernelspec": {
   "display_name": "Python 3",
   "language": "python",
   "name": "python3"
  },
  "language_info": {
   "codemirror_mode": {
    "name": "ipython",
    "version": 3
   },
   "file_extension": ".py",
   "mimetype": "text/x-python",
   "name": "python",
   "nbconvert_exporter": "python",
   "pygments_lexer": "ipython3",
   "version": "3.8.5"
  }
 },
 "nbformat": 4,
 "nbformat_minor": 4
}
