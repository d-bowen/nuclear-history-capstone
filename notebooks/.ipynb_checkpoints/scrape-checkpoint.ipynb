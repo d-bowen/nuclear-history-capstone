{
 "cells": [
  {
   "cell_type": "code",
   "execution_count": 9,
   "metadata": {},
   "outputs": [],
   "source": [
    "from bs4 import BeautifulSoup\n",
    "import pandas as pd\n",
    "import requests\n",
    "from io import StringIO\n",
    "from time import sleep"
   ]
  },
  {
   "cell_type": "code",
   "execution_count": 10,
   "metadata": {},
   "outputs": [],
   "source": [
    "url = ['http://www.johnstonsarchive.net/nuclear/tests/USA-ntests1.html',\n",
    "        'http://www.johnstonsarchive.net/nuclear/tests/USA-ntests2.html',\n",
    "        'http://www.johnstonsarchive.net/nuclear/tests/USA-ntests3.html',\n",
    "        'http://www.johnstonsarchive.net/nuclear/tests/USA-ntestsH.html', \n",
    "        'http://www.johnstonsarchive.net/nuclear/tests/USSR-ntests1.html',\n",
    "        'http://www.johnstonsarchive.net/nuclear/tests/USSR-ntests2.html',\n",
    "        'http://www.johnstonsarchive.net/nuclear/tests/USSR-ntests3.html',\n",
    "        'http://www.johnstonsarchive.net/nuclear/tests/USSR-ntestsH.html',\n",
    "        'http://www.johnstonsarchive.net/nuclear/tests/USSR-ntestsN.html',\n",
    "        'http://www.johnstonsarchive.net/nuclear/tests/UK-ntests1.html',\n",
    "        'http://www.johnstonsarchive.net/nuclear/tests/UK-ntestsH.html',\n",
    "        'http://www.johnstonsarchive.net/nuclear/tests/UK-ntestsN.html',\n",
    "        'http://www.johnstonsarchive.net/nuclear/tests/FR-ntests1.html',\n",
    "        'http://www.johnstonsarchive.net/nuclear/tests/FR-ntestsN.html',\n",
    "        'http://www.johnstonsarchive.net/nuclear/tests/PRC-ntests1.html',\n",
    "        'http://www.johnstonsarchive.net/nuclear/tests/PRC-ntestsH.html',\n",
    "        'http://www.johnstonsarchive.net/nuclear/tests/OTH-ntests1.html']\n",
    "\n",
    "state = ['USA', 'USA', 'USA', 'USA', 'USSR', 'USSR', 'USSR', 'USSR', 'USSR', \n",
    "        'UK', 'UK', 'UK', 'FR', 'FR', 'CH', 'CH', 'Other']\n",
    "\n",
    "testtype = ['Nuclear', 'Nuclear', 'Nuclear', 'Hydronuclear', 'Nuclear', 'Nuclear',\n",
    "           'Nuclear', 'Hydronuclear', 'Ambiguous', 'Nuclear', 'Hydronuclear',\n",
    "           'Ambiguous', 'Nuclear', 'Ambiguous', 'Nuclear', 'Hydronuclear', 'Nuclear']"
   ]
  },
  {
   "cell_type": "code",
   "execution_count": 13,
   "metadata": {},
   "outputs": [],
   "source": [
    "tests = pd.DataFrame()\n",
    "all_tests = pd.DataFrame()\n",
    "\n",
    "for n in range(0, 17):\n",
    "\n",
    "    response = requests.post(url[n])\n",
    "    soup = BeautifulSoup(response.content, \"html.parser\")\n",
    "    results = soup.find('pre').find(text=True)\n",
    "    testframe = StringIO(results)\n",
    "    tests = pd.read_csv(testframe, sep='\\t')\n",
    "    # next two lines insert columns ahead\n",
    "#    tests.insert(loc=0, column='state', value=state[n])\n",
    "#    tests.insert(loc=1, column='testtype', value=testtype[n])\n",
    "    tests.to_csv('../data/tests/' + str(state[n]) + '_' + str(testtype[n]) \n",
    "                 + '_' + str(n) + '.csv', sep='\\t', index=False)\n",
    "#    tests['state'] = \"\"\"\\t\"\"\"+state[n]\n",
    "#    tests['test type'] = \"\"\"\\t\"\"\"+testtype[n]\n",
    "#    all_tests = pd.concat([all_tests, tests], ignore_index=True)\n",
    "    sleep(10)\n",
    "    n += 1\n",
    "    \n",
    "# all_tests.to_csv('../data/test_test.csv', sep='\\t', index=False)"
   ]
  },
  {
   "cell_type": "code",
   "execution_count": null,
   "metadata": {},
   "outputs": [],
   "source": []
  }
 ],
 "metadata": {
  "kernelspec": {
   "display_name": "Python 3",
   "language": "python",
   "name": "python3"
  },
  "language_info": {
   "codemirror_mode": {
    "name": "ipython",
    "version": 3
   },
   "file_extension": ".py",
   "mimetype": "text/x-python",
   "name": "python",
   "nbconvert_exporter": "python",
   "pygments_lexer": "ipython3",
   "version": "3.8.5"
  }
 },
 "nbformat": 4,
 "nbformat_minor": 4
}
