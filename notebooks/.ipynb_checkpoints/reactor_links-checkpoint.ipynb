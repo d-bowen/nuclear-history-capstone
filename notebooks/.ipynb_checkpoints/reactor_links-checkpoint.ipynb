{
 "cells": [
  {
   "cell_type": "code",
   "execution_count": 5,
   "metadata": {},
   "outputs": [],
   "source": [
    "from bs4 import BeautifulSoup\n",
    "import pandas as pd\n",
    "import requests\n",
    "from io import StringIO\n",
    "from time import sleep\n",
    "from urllib.request import urlretrieve\n",
    "from urllib.parse import quote"
   ]
  },
  {
   "cell_type": "markdown",
   "metadata": {},
   "source": [
    "### URLs for all reactors"
   ]
  },
  {
   "cell_type": "code",
   "execution_count": 8,
   "metadata": {},
   "outputs": [
    {
     "name": "stdout",
     "output_type": "stream",
     "text": [
      "http://www.google.com/url?q=https://www.world-nuclear.org/information-library/country-profiles/countries-a-f/belgium.aspx\n",
      "http://www.google.com/url?q=https://www.world-nuclear.org/information-library/country-profiles/countries-a-f/bulgaria.aspx\n"
     ]
    },
    {
     "ename": "KeyboardInterrupt",
     "evalue": "",
     "output_type": "error",
     "traceback": [
      "\u001b[0;31m---------------------------------------------------------------------------\u001b[0m",
      "\u001b[0;31mKeyboardInterrupt\u001b[0m                         Traceback (most recent call last)",
      "\u001b[0;32m<ipython-input-8-053ac249a769>\u001b[0m in \u001b[0;36m<module>\u001b[0;34m\u001b[0m\n\u001b[1;32m     23\u001b[0m \u001b[0;31m#   reactors.at[x, 'Link2'] = newurl_2\u001b[0m\u001b[0;34m\u001b[0m\u001b[0;34m\u001b[0m\u001b[0;34m\u001b[0m\u001b[0m\n\u001b[1;32m     24\u001b[0m \u001b[0;34m\u001b[0m\u001b[0m\n\u001b[0;32m---> 25\u001b[0;31m     \u001b[0msleep\u001b[0m\u001b[0;34m(\u001b[0m\u001b[0;36m10\u001b[0m\u001b[0;34m)\u001b[0m\u001b[0;34m\u001b[0m\u001b[0;34m\u001b[0m\u001b[0m\n\u001b[0m\u001b[1;32m     26\u001b[0m \u001b[0;34m\u001b[0m\u001b[0m\n\u001b[1;32m     27\u001b[0m \u001b[0mreactors\u001b[0m\u001b[0;34m\u001b[0m\u001b[0;34m\u001b[0m\u001b[0m\n",
      "\u001b[0;31mKeyboardInterrupt\u001b[0m: "
     ]
    }
   ],
   "source": [
    "reactors = pd.read_csv('../data/Cleaned Data - Copy/all_reactors.csv')\n",
    "reactors = reactors.reindex(columns = reactors.columns.tolist()  \n",
    "                                  + ['Link1','Link2'])\n",
    "reactors['Link1'] = reactors['Link1'].apply(str) \n",
    "reactors['Link2'] = reactors['Link2'].apply(str) \n",
    "\n",
    "for x in range (1, 282):\n",
    "    term1 = str(reactors.at[x, 'Country'])\n",
    "    term2 = str(reactors.at[x, 'Reactor Name'])\n",
    "    try:\n",
    "        var1 = requests.get(r'http://www.google.com/search?q=world-nuclear' + term1 + '%20' + term2 + '%20reactor&btnI=I')\n",
    "    #    var2 = requests.get(r'http://www.google.com/search?q=iaea%20' + term1 + '%20' + term2 + '%20reactor&btnI')\n",
    "    #    print(var1.url)\n",
    "        newurl_1 = str(var1.url)\n",
    "    #   print(newurl_1)\n",
    "        newurl_1 = newurl_1.split(\"url?q=\",1)[1]\n",
    "    #   newurl_2 = str(var2.url)\n",
    "    #   newurl_2 = newurl_2.split(\"url?q=\",1)[1]\n",
    "\n",
    "        reactors.at[x, 'Link1'] = newurl_1\n",
    "    except IndexError:\n",
    "        continue\n",
    "#   reactors.at[x, 'Link2'] = newurl_2\n",
    "\n",
    "    sleep(10)\n",
    "    \n",
    "reactors\n",
    "reactors.to_csv('../data/Cleaned Data - Copy/all_reactors_links.csv')"
   ]
  },
  {
   "cell_type": "code",
   "execution_count": null,
   "metadata": {},
   "outputs": [],
   "source": []
  }
 ],
 "metadata": {
  "kernelspec": {
   "display_name": "Python 3",
   "language": "python",
   "name": "python3"
  },
  "language_info": {
   "codemirror_mode": {
    "name": "ipython",
    "version": 3
   },
   "file_extension": ".py",
   "mimetype": "text/x-python",
   "name": "python",
   "nbconvert_exporter": "python",
   "pygments_lexer": "ipython3",
   "version": "3.8.5"
  }
 },
 "nbformat": 4,
 "nbformat_minor": 4
}
